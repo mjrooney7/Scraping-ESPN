{
 "cells": [
  {
   "cell_type": "code",
   "execution_count": 1,
   "id": "4664a0d6",
   "metadata": {},
   "outputs": [],
   "source": [
    "import requests\n",
    "from bs4 import BeautifulSoup\n",
    "import os\n",
    "import pandas as pd"
   ]
  },
  {
   "cell_type": "code",
   "execution_count": 6,
   "id": "7ccff1e8",
   "metadata": {},
   "outputs": [],
   "source": [
    "urln=[\"https://www.espncricinfo.com/series/ipl-2018-1131611/royal-challengers-bangalore-vs-chennai-super-kings-24th-match-1136584/full-scorecard\"]"
   ]
  },
  {
   "cell_type": "code",
   "execution_count": 15,
   "id": "7ce6ae5d",
   "metadata": {},
   "outputs": [],
   "source": [
    "def toss(url):\n",
    "    webpage=requests.get(url)\n",
    "    web=webpage.content\n",
    "    soup=BeautifulSoup(web,\"html.parser\")\n",
    "    #print(soup)\n",
    "    for m in soup.find_all(\"span\"):\n",
    "        n=m.text\n",
    "        #print(n)\n",
    "        if 'elected' in n:\n",
    "            print(n)\n",
    "    "
   ]
  },
  {
   "cell_type": "code",
   "execution_count": 16,
   "id": "b09feeec",
   "metadata": {},
   "outputs": [
    {
     "name": "stdout",
     "output_type": "stream",
     "text": [
      "Chennai Super Kings, elected to field first\n"
     ]
    }
   ],
   "source": [
    "toss=[toss(url) for url in urln]"
   ]
  },
  {
   "cell_type": "code",
   "execution_count": 24,
   "id": "8bed59d8",
   "metadata": {},
   "outputs": [],
   "source": [
    "def winner(url):\n",
    "    webpage=requests.get(url)\n",
    "    web=webpage.content\n",
    "    soup=BeautifulSoup(web,\"html.parser\")\n",
    "    for m in soup.find_all(\"p\",{\"class\" : \"ds-text-tight-m\"}):\n",
    "        for span in m.find_all(\"span\"):\n",
    "            print(span.text)\n",
    "    #print(m)\n",
    "    "
   ]
  },
  {
   "cell_type": "code",
   "execution_count": 25,
   "id": "52cab177",
   "metadata": {},
   "outputs": [
    {
     "name": "stdout",
     "output_type": "stream",
     "text": [
      "Super Kings won by 5 wickets (with 2 balls remaining)\n"
     ]
    }
   ],
   "source": [
    "winner=[winner(url) for url in urln]"
   ]
  },
  {
   "cell_type": "code",
   "execution_count": 26,
   "id": "99a5095e",
   "metadata": {},
   "outputs": [],
   "source": [
    "def score(url):\n",
    "    webpage=requests.get(url)\n",
    "    web=webpage.content\n",
    "    soup=BeautifulSoup(web,\"html.parser\")\n",
    "    for m in soup.find_all(\"div\",{\"class\" : \"ds-text-compact-m\"}):\n",
    "        for s in m.find_all(\"strong\"):\n",
    "            print(s.text)"
   ]
  },
  {
   "cell_type": "code",
   "execution_count": 29,
   "id": "a7cc9a31",
   "metadata": {},
   "outputs": [
    {
     "name": "stdout",
     "output_type": "stream",
     "text": [
      "205/8\n",
      "207/5\n"
     ]
    }
   ],
   "source": [
    "score=[score(url) for url in urln]"
   ]
  },
  {
   "cell_type": "code",
   "execution_count": 59,
   "id": "1041ca7a",
   "metadata": {},
   "outputs": [],
   "source": [
    "def team(url):\n",
    "    webpage=requests.get(url)\n",
    "    web=webpage.content\n",
    "    soup=BeautifulSoup(web,\"html.parser\")\n",
    "    for s in soup.find_all(\"span\",{\"class\" : \"ds-text-tight-l\"}):\n",
    "        print(s.text)\n",
    "            "
   ]
  },
  {
   "cell_type": "code",
   "execution_count": 60,
   "id": "6ed259f2",
   "metadata": {},
   "outputs": [
    {
     "name": "stdout",
     "output_type": "stream",
     "text": [
      "Royal Challengers Bangalore\n",
      "Chennai Super Kings\n",
      "Unlocking the magic of Statsguru\n"
     ]
    }
   ],
   "source": [
    "team=[team(url) for url in urln]"
   ]
  },
  {
   "cell_type": "code",
   "execution_count": null,
   "id": "c1a81a48",
   "metadata": {},
   "outputs": [],
   "source": []
  }
 ],
 "metadata": {
  "kernelspec": {
   "display_name": "Python 3",
   "language": "python",
   "name": "python3"
  },
  "language_info": {
   "codemirror_mode": {
    "name": "ipython",
    "version": 3
   },
   "file_extension": ".py",
   "mimetype": "text/x-python",
   "name": "python",
   "nbconvert_exporter": "python",
   "pygments_lexer": "ipython3",
   "version": "3.10.11"
  }
 },
 "nbformat": 4,
 "nbformat_minor": 5
}
